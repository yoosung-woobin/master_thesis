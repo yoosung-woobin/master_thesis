{
 "cells": [
  {
   "cell_type": "code",
   "execution_count": 1,
   "metadata": {},
   "outputs": [],
   "source": [
    "import numpy as np\n",
    "import pandas as pd\n",
    "from sklearn.metrics import mean_squared_error\n",
    "from sklearn.linear_model import ElasticNetCV, LassoCV, RidgeCV, LinearRegression\n",
    "from sklearn.cross_decomposition import PLSRegression\n",
    "from sklearn.model_selection import GridSearchCV\n",
    "from sklearn.preprocessing import StandardScaler\n",
    "from sklearn.metrics import r2_score\n",
    "import os\n",
    "import matplotlib.pyplot as plt\n",
    "%matplotlib inline\n",
    "\n",
    "import tensorflow as tf\n",
    "from tensorflow.keras.models import Sequential, Model\n",
    "from tensorflow.keras.layers import Dense, Dropout, Activation, CuDNNLSTM, Input, concatenate, Concatenate\n",
    "from tensorflow.keras.backend import clear_session\n",
    "from tensorflow.keras.callbacks import EarlyStopping\n",
    "from tensorflow.keras.utils import plot_model"
   ]
  },
  {
   "cell_type": "code",
   "execution_count": 2,
   "metadata": {},
   "outputs": [],
   "source": [
    "url = 'http://www.hec.unil.ch/agoyal/docs/PredictorData2017.xlsx'\n",
    "mn_df = pd.read_excel(url,header=0,sheetname='Monthly', index_col='yyyymm')"
   ]
  },
  {
   "cell_type": "markdown",
   "metadata": {},
   "source": [
    "### 도출해야 하는 variable list\n",
    "1. **Equity Premium**: $ln(Index_{t+1} + D12_{t+1}) - ln(index_{t}) -ln(1+Rfree_{t+1})$\n",
    "2. **dp** (Dividend Price Ratio): $ln(D12_{t})-ln(Index_{t})$\n",
    "3. **dy** (Dividend Yield): $ln(D12_{t+1})-ln(Index_{t})$\n",
    "4. **ep** (Earnings Price Ratio): $ln(E12_{t})-ln(Index_{t})$\n",
    "5. **de** (Dividend Payout Ratio): $ln(D12_{t})-ln(E12_{t})$\n",
    "6. **svar** (Stock Variance): $\\sum{(Daily Return)^2}$ ***Given***\n",
    "7. **bm** (Book to Market Ratio): $\\frac{book value}{market value} for Dow Jones Industrial Average$ ***Given***\n",
    "8. **ntis** (Net Equity Expansion): ratio of 12-month moving sums of net issues by NYSE listed stocks divided by the total end-of-year market capitalization of NYSE stocks ***Given*** <br> \n",
    "$Net Issue_{t} = Mcap_{t} - Mcap_{t-1}\\times(1+vwretx_{t})$<br> \n",
    "where $Mcap$ is the total market capitalization and $vwretx$ is the value weighted return on the NYSE index\n",
    "9. **tbl** (Treasury Bills): 3-Month Treasury BIll ***Given***\n",
    "10. **ltr** (Long Term Rate of Returns): from Ibbotson's *Stocks, Bonds, Bills and Inflation Yearbook* ***Given***\n",
    "11. **tms** (The Term Spread): Difference between the long term yield on government bonds and the Treasury-Bill $lty_{t}-tbl_{t}$\n",
    "12. **dfy** (Default Yield Spread): Difference between BAA and AAA-rated orporate bond yields $BAA_{t}-AAA_{t}$\n",
    "13. **dfr** (Default Return Spread): Difference between long-term corporate bond and long-term bovernment bond returns <br>\n",
    "$corpr_{t}-ltr_{t}$\n",
    "14. **infl** (Inflation): Consumer Price Index(***CPI***) from Bureau of Labor Statistics ***Given***\n",
    "\n",
    "**Used Variables** : <br>\n",
    "premium, dp, dy, ep, de, svar, bm, ntis, tbl, ltr, tms, dfy, dfr, infl\n",
    "\n",
    "**Factor Model** <br>\n",
    "$R_{t+1}=\\alpha+\\beta X_{t}+\\beta_{f}F_{t}+\\epsilon_{t+1}$ <br>\n",
    "$F_{t}=F^{W,b}(X_{t})$\n",
    "\n",
    "**Regression Model following Welch and Goyal(2008) ** <br>\n",
    "$Equity\\,Premium(t)=\\gamma_{0}+\\gamma_{1}\\times x(t-1)+\\epsilon(t)$"
   ]
  },
  {
   "cell_type": "code",
   "execution_count": 3,
   "metadata": {},
   "outputs": [],
   "source": [
    "def variable_deriv(df):    \n",
    "    #Yielding Equity Premium\n",
    "    df['premium'] = np.log((df.Index+df.D12)/(df.Index.shift(periods=1)*(1+df.Rfree)))\n",
    "    #Yielding Indicator where its previous Return was positive\n",
    "    df['indicator'] = (df.premium.shift(periods=1)>0).apply(lambda x: 1 if x==True else 0)       \n",
    "    #Yielding Dividend Price Ratio\n",
    "    df['dp'] = np.log(df.D12) - np.log(df.Index)\n",
    "    #Yielding Divident Yield\n",
    "    df['dy'] = np.log(df.D12) - np.log(df.Index.shift(periods=1))\n",
    "    #Yielding Earnings Price Ratio\n",
    "    df['ep'] = np.log(df.E12) - np.log(df.Index)\n",
    "    #Yielding Divident Payout Ratio\n",
    "    df['de'] = np.log(df.D12) - np.log(df.E12)\n",
    "    #Yielding The Term Spread\n",
    "    df['tms'] = df.lty - df.tbl\n",
    "    #Yielding The Default Yield Spread\n",
    "    df['dfy'] = df.BAA - df.AAA\n",
    "    #Yielding The Default Return Spread\n",
    "    df['dfr'] = df.corpr - df.ltr\n",
    "################################################################################################################\n",
    "variable_deriv(mn_df)\n",
    "#variable_deriv(qr_df)\n",
    "#variable_deriv(yr_df)\n",
    "################################################################################################################\n",
    "variables = ['dp','dy','ep','de','svar','bm','ntis','tbl','ltr','tms','dfy','dfr','infl']\n",
    "all_variables= ['premium','dp','dy','ep','de','svar','bm','ntis','tbl','ltr','tms','dfy','dfr','infl']\n",
    "variables_sq=variables.copy()\n",
    "variables_sq.extend([item+str('_sq') for item in variables])\n",
    "variables_asy=variables.copy()\n",
    "variables_asy.extend([item+str('_ind') for item in variables])\n",
    "################################################################################################################\n",
    "##Getting final variables from 1927.01~2017.12\n",
    "def variable_transform(df, type_=None):\n",
    "    ori=df.loc[192701:,all_variables]\n",
    "    ind=df.loc[192701:,'indicator']\n",
    "    #X 들\n",
    "    if type_==\"original\" :\n",
    "        ori.loc[:,variables] = StandardScaler().fit_transform(ori.loc[:,variables])\n",
    "        return ori\n",
    "    #X^2 들\n",
    "    elif type_==\"squared\":\n",
    "        output = pd.concat([ori,ori.apply(lambda x: x**2).add_suffix('_sq')],axis=1)\n",
    "        output.loc[:,variables_sq] = StandardScaler().fit_transform(output.loc[:,variables_sq])\n",
    "        return output\n",
    "    #Asymmetric term\n",
    "    elif type_==\"asymmetric\":    \n",
    "        output = pd.concat([ori,ori.apply(lambda x: x*ind).add_suffix('_ind')],axis=1)\n",
    "        output.loc[:,variables_asy] = StandardScaler().fit_transform(output.loc[:,variables_asy])\n",
    "        return output\n",
    "################################################################################################################\n",
    "mn_df_ori=variable_transform(mn_df, type_='original')\n",
    "mn_df_sqr=variable_transform(mn_df, type_='squared')\n",
    "mn_df_asy=variable_transform(mn_df, type_='asymmetric')\n",
    "################################################################################################################\n",
    "class timeseries_cv():\n",
    "    \n",
    "    def __init__(self, n_split=3) :\n",
    "        self.n_split = n_split\n",
    "        \n",
    "    def split(self, X, y, group=None) :\n",
    "        n_split = self.n_split\n",
    "        n_fold = n_split + 1\n",
    "        max_len = X.shape[0]\n",
    "        indices = np.arange(max_len)\n",
    "        for index in range(1,n_fold) :\n",
    "            yield (indices[:-index],indices[[-index]])\n",
    "    \n",
    "    def get_n_splits(self, X, y, group=None):\n",
    "        return self.n_split    \n",
    "################################################################################################################\n",
    "def mse(y_true, y_pred):\n",
    "    return np.average(np.square(y_true[[0]],y_pred[[0]]))\n",
    "################################################################################################################\n",
    "def r2_os(y_true,y_pred):\n",
    "    r_value = pd.DataFrame(index=y_pred.index, columns=['numerator','denominator'])\n",
    "    r_value['numerator'] = (y_true - y_pred)**2\n",
    "    r_value['denominator'] = (y_true - y_true.expanding(min_periods=0).mean())**2\n",
    "    r_square = 1 - (r_value['numerator'].sum())/(r_value['denominator'].sum())\n",
    "    return r_square"
   ]
  },
  {
   "cell_type": "markdown",
   "metadata": {},
   "source": [
    "### Getting $R^2$  and MSPE"
   ]
  },
  {
   "cell_type": "code",
   "execution_count": 5,
   "metadata": {},
   "outputs": [],
   "source": [
    "# Function for Calculating Predicted Premium\n",
    "def each_prediction(model,name,df,premium_array,r2_in_sample, type_, variables, param_grid, window_type, window_range, time_cv):        \n",
    "    for item in range(1091-window_range):#(1091-window_range): \n",
    "        if window_type=='expanding':\n",
    "            base = 0            \n",
    "        else :\n",
    "            base = item\n",
    "        #############################################################################################################        \n",
    "        ### Selecting Variables            \n",
    "        X_train = (df.iloc[(base):(item+window_range),df.columns.get_indexer(variables)])\n",
    "        X_test = (df.iloc[(item+window_range):(item+(window_range+1)),df.columns.get_indexer(variables)])\n",
    "        Y_train = df['premium'].iloc[base+1:(item+(window_range+1))]\n",
    "        #############################################################################################################        \n",
    "        ### Fitting the model and generating prediction, r2         \n",
    "        model.fit(X_train, Y_train)\n",
    "        model_pred = model.predict(X_test)\n",
    "        insample_pred = model.predict(X_train)\n",
    "        r2 = r2_score(y_pred=insample_pred,y_true=Y_train)        \n",
    "        #############################################################################################################        \n",
    "        ### Saving the prediction result  & In Sample R2        \n",
    "        if name != 'PLS':\n",
    "            premium_array.iat[item,premium_array.columns.get_loc(name)] = model_pred[0]\n",
    "            r2_in_sample.iat[item,r2_in_sample.columns.get_loc(name)] = r2\n",
    "        elif name == 'PLS':\n",
    "            premium_array.iat[item,premium_array.columns.get_loc(name)] = model_pred[0][0]\n",
    "            r2_in_sample.iat[item,r2_in_sample.columns.get_loc(name)] = r2"
   ]
  },
  {
   "cell_type": "code",
   "execution_count": 6,
   "metadata": {},
   "outputs": [],
   "source": [
    "# Function for Implementing Prediction for each method\n",
    "def premium_calc(df,type_, window_type, window_range):\n",
    "    #############################################################################################################        \n",
    "    ### Variables assignment for calling ###\n",
    "    variables = ['dp','dy','ep','de','svar','bm','ntis','tbl','ltr','tms','dfy','dfr','infl']\n",
    "    time_cv = timeseries_cv(n_split=3)\n",
    "    window_range = 12 * int(window_range)    \n",
    "    if type_=='original':\n",
    "        pass\n",
    "    elif type_=='squared':\n",
    "        variables.extend([item+str('_sq') for item in variables])\n",
    "    elif type_=='asymmetrical':\n",
    "        variables.extend([item+str('_ind') for item in variables])\n",
    "    #############################################################################################################    \n",
    "    ### Creating Empty DataFrame for storing Predicted Premium ###\n",
    "    pred_premium = pd.DataFrame(index=df.iloc[window_range+1:,:].index, \n",
    "                                columns=['OLS','Ridge','PLS','Lasso','ElasticNet'])\n",
    "    r2_in_sample = pd.DataFrame(index=df.iloc[window_range+1:,:].index, \n",
    "                                columns=['OLS','Ridge','PLS','Lasso','ElasticNet'])\n",
    "    #############################################################################################################    \n",
    "    ### Defining Prediction for each possible Methodology ###    \n",
    "    # OLS\n",
    "    print('Predicting OLS')\n",
    "    each_prediction(LinearRegression(),'OLS',df, pred_premium,r2_in_sample, type_, variables, None, window_type, window_range, time_cv)\n",
    "    # Ridge\n",
    "    print('Predicting Ridge')\n",
    "    each_prediction(RidgeCV(cv=time_cv),'Ridge',df, pred_premium, r2_in_sample, type_, variables, None, window_type, window_range, time_cv)\n",
    "    # PLS\n",
    "    print('Predicting PLS')\n",
    "    each_prediction(PLSRegression(),'PLS',df, pred_premium, r2_in_sample, type_, variables, None, window_type, window_range, time_cv)\n",
    "    # Lasso\n",
    "    print('Predicting Lasso')\n",
    "    each_prediction(LassoCV(cv=time_cv, max_iter=10000, tol=0.001),'Lasso',df, pred_premium, r2_in_sample, type_, variables, None, window_type, window_range, time_cv)\n",
    "    # ElasticNet\n",
    "    print('Predicting ElasticNet')\n",
    "    each_prediction(ElasticNetCV(cv=time_cv,max_iter=10000, tol=0.001),'ElasticNet',df, pred_premium, r2_in_sample, type_, variables, None, window_type, window_range, time_cv)\n",
    "\n",
    "    return pred_premium, r2_in_sample"
   ]
  },
  {
   "cell_type": "code",
   "execution_count": null,
   "metadata": {
    "scrolled": true
   },
   "outputs": [],
   "source": [
    "base_expanding_original_35yr_pred,base_expanding_original_35yr_r2 = premium_calc(mn_df_ori,type_='original', window_type='expanding', window_range=35)\n",
    "base_expanding_original_35yr_pred.to_csv(r'C:\\Users\\Home PC\\Desktop\\재무대학원\\재무 대학원\\논문\\result\\new\\base\\base_expanding_original_pred_35yr.csv')\n",
    "base_expanding_original_35yr_r2.to_csv(r'C:\\Users\\Home PC\\Desktop\\재무대학원\\재무 대학원\\논문\\result\\new\\base\\base_expanding_original_r2_35yr.csv')"
   ]
  },
  {
   "cell_type": "code",
   "execution_count": null,
   "metadata": {
    "scrolled": true
   },
   "outputs": [],
   "source": [
    "base_expanding_asymmetrical_35yr_pred,base_asymmetrical_original_35yr_r2 = premium_calc(mn_df_asy,type_='asymmetrical', window_type='expanding', window_range=35)\n",
    "base_expanding_asymmetrical_35yr_pred.to_csv(r'C:\\Users\\Home PC\\Desktop\\재무대학원\\재무 대학원\\논문\\result\\new\\base\\base_expanding_asymmetrical_pred_35yr.csv')\n",
    "base_expanding_asymmetrical_35yr_r2.to_csv(r'C:\\Users\\Home PC\\Desktop\\재무대학원\\재무 대학원\\논문\\result\\new\\base\\base_expanding_asymmetrical_r2_35yr.csv')"
   ]
  },
  {
   "cell_type": "code",
   "execution_count": null,
   "metadata": {
    "scrolled": true
   },
   "outputs": [],
   "source": [
    "base_expanding_square_35yr_pred,base_expanding_square_35yr_r2 = premium_calc(mn_df_sqr,type_='squared', window_type='expanding', window_range=35)\n",
    "base_expanding_square_35yr_pred.to_csv(r'C:\\Users\\Home PC\\Desktop\\재무대학원\\재무 대학원\\논문\\result\\new\\base\\base_expanding_square_pred_35yr.csv')\n",
    "base_expanding_square_35yr_r2.to_csv(r'C:\\Users\\Home PC\\Desktop\\재무대학원\\재무 대학원\\논문\\result\\new\\base\\base_expanding_square_r2_35yr.csv')"
   ]
  },
  {
   "cell_type": "code",
   "execution_count": null,
   "metadata": {},
   "outputs": [],
   "source": [
    "base_moving_original_20yr_pred,base_moving_original_20yr_r2 = premium_calc(mn_df_ori,type_='original', window_type='moving', window_range=20)\n",
    "base_moving_original_20yr_pred.to_csv(r'C:\\Users\\Home PC\\Desktop\\재무대학원\\재무 대학원\\논문\\result\\new\\base\\base_moving_original_pred_20yr.csv')\n",
    "base_moving_original_20yr_r2.to_csv(r'C:\\Users\\Home PC\\Desktop\\재무대학원\\재무 대학원\\논문\\result\\new\\base\\base_moving_original_r2_20yr.csv')"
   ]
  },
  {
   "cell_type": "code",
   "execution_count": null,
   "metadata": {},
   "outputs": [],
   "source": [
    "base_moving_square_20yr_pred,base_moving_square_20yr_r2 = premium_calc(mn_df_sqr,type_='squared', window_type='moving', window_range=20)\n",
    "base_moving_square_20yr_pred.to_csv(r'C:\\Users\\Home PC\\Desktop\\재무대학원\\재무 대학원\\논문\\result\\new\\base\\base_moving_square_pred_20yr.csv')\n",
    "base_moving_square_20yr_r2.to_csv(r'C:\\Users\\Home PC\\Desktop\\재무대학원\\재무 대학원\\논문\\result\\new\\base\\base_moving_square_r2_20yr.csv')"
   ]
  },
  {
   "cell_type": "code",
   "execution_count": null,
   "metadata": {},
   "outputs": [],
   "source": [
    "base_moving_asymmetrical_20yr_pred,base_moving_asymmetrical_20yr_r2 = premium_calc(mn_df_asy,type_='asymmetrical', window_type='moving', window_range=20)\n",
    "base_moving_asymmetrical_20yr_pred.to_csv(r'C:\\Users\\Home PC\\Desktop\\재무대학원\\재무 대학원\\논문\\result\\new\\base\\base_moving_asymmetrical_pred_20yr.csv')\n",
    "base_moving_asymmetrical_20yr_r2.to_csv(r'C:\\Users\\Home PC\\Desktop\\재무대학원\\재무 대학원\\논문\\result\\new\\base\\base_moving_asymmetrical_r2_20yr.csv')"
   ]
  },
  {
   "cell_type": "code",
   "execution_count": null,
   "metadata": {},
   "outputs": [],
   "source": [
    "base_moving_original_10yr_pred,base_moving_original_10yr_r2 = premium_calc(mn_df_ori,type_='original', window_type='moving', window_range=10)\n",
    "base_moving_original_10yr_pred.to_csv(r'C:\\Users\\Home PC\\Desktop\\재무대학원\\재무 대학원\\논문\\result\\new\\base\\base_moving_original_pred_10yr.csv')\n",
    "base_moving_original_10yr_r2.to_csv(r'C:\\Users\\Home PC\\Desktop\\재무대학원\\재무 대학원\\논문\\result\\new\\base\\base_moving_original_r2_10yr.csv')"
   ]
  },
  {
   "cell_type": "code",
   "execution_count": null,
   "metadata": {},
   "outputs": [],
   "source": [
    "base_moving_square_10yr_pred,base_moving_square_10yr_r2 = premium_calc(mn_df_sqr,type_='squared', window_type='moving', window_range=10)\n",
    "base_moving_square_10yr_pred.to_csv(r'C:\\Users\\Home PC\\Desktop\\재무대학원\\재무 대학원\\논문\\result\\new\\base\\base_moving_square_pred_10yr.csv')\n",
    "base_moving_square_10yr_r2.to_csv(r'C:\\Users\\Home PC\\Desktop\\재무대학원\\재무 대학원\\논문\\result\\new\\base\\base_moving_square_r2_10yr.csv')"
   ]
  },
  {
   "cell_type": "code",
   "execution_count": null,
   "metadata": {},
   "outputs": [],
   "source": [
    "base_moving_asymmetrical_10yr_pred,base_moving_asymmetrical_10yr_r2 = premium_calc(mn_df_asy,type_='asymmetrical', window_type='moving', window_range=10)\n",
    "base_moving_asymmetrical_pred.to_csv(r'C:\\Users\\Home PC\\Desktop\\재무대학원\\재무 대학원\\논문\\result\\new\\base\\base_moving_asymmetrical_pred_10yr.csv')\n",
    "base_moving_asymmetrical_r2.to_csv(r'C:\\Users\\Home PC\\Desktop\\재무대학원\\재무 대학원\\논문\\result\\new\\base\\base_moving_asymmetrical_r2_10yr.csv')"
   ]
  }
 ],
 "metadata": {
  "kernelspec": {
   "display_name": "Python 3",
   "language": "python",
   "name": "python3"
  },
  "language_info": {
   "codemirror_mode": {
    "name": "ipython",
    "version": 3
   },
   "file_extension": ".py",
   "mimetype": "text/x-python",
   "name": "python",
   "nbconvert_exporter": "python",
   "pygments_lexer": "ipython3",
   "version": "3.6.3"
  }
 },
 "nbformat": 4,
 "nbformat_minor": 2
}
